{
 "cells": [
  {
   "cell_type": "code",
   "execution_count": 1,
   "id": "2f4481ae",
   "metadata": {},
   "outputs": [],
   "source": [
    "import torch\n",
    "from torchrl.data import Bounded, Unbounded, Composite, Categorical\n"
   ]
  },
  {
   "cell_type": "code",
   "execution_count": 12,
   "id": "a1d58760",
   "metadata": {},
   "outputs": [
    {
     "data": {
      "text/plain": [
       "1"
      ]
     },
     "execution_count": 12,
     "metadata": {},
     "output_type": "execute_result"
    }
   ],
   "source": [
    "torch.Size().numel()"
   ]
  },
  {
   "cell_type": "code",
   "execution_count": 17,
   "id": "f1353b1a",
   "metadata": {},
   "outputs": [
    {
     "data": {
      "text/plain": [
       "6"
      ]
     },
     "execution_count": 17,
     "metadata": {},
     "output_type": "execute_result"
    }
   ],
   "source": [
    "torch.ones((3,2)).numel()"
   ]
  },
  {
   "cell_type": "code",
   "execution_count": 2,
   "id": "a5872526",
   "metadata": {},
   "outputs": [],
   "source": [
    "action_spec = Bounded(low=-1, high=1, shape=(), dtype=torch.float32)"
   ]
  },
  {
   "cell_type": "code",
   "execution_count": 6,
   "id": "82318ef7",
   "metadata": {},
   "outputs": [
    {
     "data": {
      "text/plain": [
       "1"
      ]
     },
     "execution_count": 6,
     "metadata": {},
     "output_type": "execute_result"
    }
   ],
   "source": [
    "action_spec.shape.numel()"
   ]
  }
 ],
 "metadata": {
  "kernelspec": {
   "display_name": "pfrl",
   "language": "python",
   "name": "python3"
  },
  "language_info": {
   "codemirror_mode": {
    "name": "ipython",
    "version": 3
   },
   "file_extension": ".py",
   "mimetype": "text/x-python",
   "name": "python",
   "nbconvert_exporter": "python",
   "pygments_lexer": "ipython3",
   "version": "3.12.7"
  }
 },
 "nbformat": 4,
 "nbformat_minor": 5
}
