{
 "cells": [
  {
   "cell_type": "code",
   "execution_count": 1,
   "metadata": {},
   "outputs": [],
   "source": [
    "import gurobipy as gp\n",
    "import numpy as np\n",
    "import pandas as pd"
   ]
  },
  {
   "cell_type": "code",
   "execution_count": 2,
   "metadata": {},
   "outputs": [],
   "source": [
    "csv_data = pd.read_csv('../data/Final_Energy_dataset.csv')\n",
    "csv_data.drop(columns=['Date','emissions'], inplace=True)\n",
    "csv_data.set_index(pd.RangeIndex(0,52608),inplace=True)\n",
    "csv_data.fillna(0, inplace=True)\n",
    "# csv_data = (csv_data.loc[35088:52607]).set_index(pd.RangeIndex(0,17520))\n",
    "# csv_data = (csv_data.loc[17520:35087]).set_index(pd.RangeIndex(0,17568))\n",
    "csv_data = (csv_data.loc[0:17519]).set_index(pd.RangeIndex(0,17520))"
   ]
  },
  {
   "cell_type": "code",
   "execution_count": null,
   "metadata": {},
   "outputs": [],
   "source": [
    "model = gp.Model('bess_opti')"
   ]
  },
  {
   "cell_type": "code",
   "execution_count": 4,
   "metadata": {},
   "outputs": [],
   "source": [
    "timeslot = range(0, 17520, 1)"
   ]
  },
  {
   "cell_type": "code",
   "execution_count": 5,
   "metadata": {},
   "outputs": [],
   "source": [
    "load = csv_data['load_1'].values\n",
    "pv = csv_data['pv_1'].values\n",
    "price = csv_data['price'].values"
   ]
  },
  {
   "cell_type": "code",
   "execution_count": null,
   "metadata": {},
   "outputs": [],
   "source": [
    "action = model.addVars(timeslot, lb=-2.3, ub=2.3, name=\"action\")\n",
    "soc = model.addVars(timeslot, lb=0, ub=13.5, name=\"soc\")\n",
    "\n",
    "# Add constraints\n",
    "for t in range(17520):\n",
    "    # Battery State of Charge (SOC) dynamics\n",
    "    if t == 0:\n",
    "        model.addConstr(soc[t] == 0 + action[t], name=f\"soc_initial_{t}\")\n",
    "    else:\n",
    "        model.addConstr(soc[t] == soc[t-1] + action[t], name=f\"soc_dynamics_{t}\")\n",
    "\n",
    "# Define net load and cost\n",
    "net_load = {t: load[t] - pv[t] + action[t] for t in range(17520)}\n",
    "\n",
    "# Objective: Minimize the cost\n",
    "cost = gp.quicksum(price[t] * net_load[t] for t in range(17520))\n",
    "model.setObjective(cost, gp.GRB.MINIMIZE)\n",
    "model.optimize()\n",
    "\n",
    "# write solution in dataframe\n",
    "solution = pd.DataFrame(index=timeslot)\n",
    "solution['action'] = [action[t].x for t in timeslot]\n",
    "solution['soc'] = [soc[t].x for t in timeslot]\n",
    "solution['soc'].plot()\n",
    "# for v in model.getVars():\n",
    "    # print(f\"{v.varName}: {v.x}\")"
   ]
  }
 ],
 "metadata": {
  "kernelspec": {
   "display_name": "pfrl",
   "language": "python",
   "name": "python3"
  },
  "language_info": {
   "codemirror_mode": {
    "name": "ipython",
    "version": 3
   },
   "file_extension": ".py",
   "mimetype": "text/x-python",
   "name": "python",
   "nbconvert_exporter": "python",
   "pygments_lexer": "ipython3",
   "version": "3.12.7"
  }
 },
 "nbformat": 4,
 "nbformat_minor": 2
}
